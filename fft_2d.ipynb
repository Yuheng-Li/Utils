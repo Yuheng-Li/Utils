{
 "cells": [
  {
   "cell_type": "code",
   "execution_count": 6,
   "metadata": {},
   "outputs": [],
   "source": [
    "import torch \n",
    "import numpy as np\n",
    "import matplotlib.pyplot as plt "
   ]
  },
  {
   "cell_type": "code",
   "execution_count": null,
   "metadata": {},
   "outputs": [],
   "source": []
  },
  {
   "cell_type": "code",
   "execution_count": 7,
   "metadata": {},
   "outputs": [],
   "source": [
    "# We study the FFT in 2D case. "
   ]
  },
  {
   "cell_type": "code",
   "execution_count": 98,
   "metadata": {},
   "outputs": [],
   "source": [
    "# First define a visualization function.\n",
    "def visualize_feature(features, rows=1, columns=1, value_range=None):\n",
    "    \"\"\"\n",
    "    features is C*H*W tensor\n",
    "   \n",
    "    all values will be normalized according to value_range    \n",
    "    for example if value_range=[a,b], then x = (x-a) / (b-a)\n",
    "   \n",
    "    after this all values be clipped if <0 or >1\n",
    "   \n",
    "    \"\"\"\n",
    "    if features.ndim == 2:\n",
    "        features = features.unsqueeze(0)\n",
    "    assert features.ndim == 3\n",
    "    assert rows*columns == features.shape[0]\n",
    "   \n",
    "    fig = plt.figure( figsize=(5*columns, 4*rows) )\n",
    "   \n",
    "    if value_range is None:\n",
    "        min_value = features.min()\n",
    "        difference = features.max() - features.min()\n",
    "        print('normalize range is not given, use min and max value in all input tensors')\n",
    "    else:\n",
    "        min_value = value_range[0]\n",
    "        difference = value_range[1] - value_range[0]\n",
    "       \n",
    "       \n",
    "    features = (features-min_value) / difference\n",
    "    features[features<0] = 0\n",
    "    features[features>1] = 1\n",
    "    features = (np.array(features.detach().cpu())*255).astype('uint8')\n",
    "   \n",
    "    for i in range( features.shape[0] ):\n",
    "        fig.add_subplot(rows, columns, i+1)\n",
    "        feature = features[i]       \n",
    "        plt.imshow(feature)\n",
    "        plt.axis('off')\n",
    "        plt.title(str(i)) "
   ]
  },
  {
   "cell_type": "code",
   "execution_count": 99,
   "metadata": {},
   "outputs": [
    {
     "data": {
      "text/plain": [
       "torch.Size([1, 1, 2])"
      ]
     },
     "execution_count": 99,
     "metadata": {},
     "output_type": "execute_result"
    }
   ],
   "source": [
    "freqs.shape"
   ]
  },
  {
   "cell_type": "code",
   "execution_count": 100,
   "metadata": {},
   "outputs": [
    {
     "name": "stdout",
     "output_type": "stream",
     "text": [
      "sampled x and y axis freqs are:  tensor([1.6000, 0.1000])\n"
     ]
    }
   ],
   "source": [
    "# Like in stylegan3, we first draw x and y frequnecy from 2D disc with radius of bandlimit. \n",
    "# But here, we manually set it as 1.6 and 0.1. \n",
    "channels = 1\n",
    "bandwidth = 2\n",
    "freqs = torch.randn([ channels, 2])\n",
    "radii = freqs.square().sum(dim=1, keepdim=True).sqrt()\n",
    "freqs /= radii * radii.square().exp().pow(0.25)\n",
    "freqs *= bandwidth\n",
    "freqs = freqs.unsqueeze(0) \n",
    "freqs[0,0,0] = 1.6 # hardcoded\n",
    "freqs[0,0,1] = 0.1 # hardcoded\n",
    "print('sampled x and y axis freqs are: ', freqs.squeeze())\n",
    "# for now we set phase as 0 \n",
    "phases = torch.rand([channels]) - 0.5\n",
    "phases = phases.unsqueeze(0) * 0 \n",
    "\n",
    "# setup x,y grid (from -1 to 1), and we set size as 36*36\n",
    "theta = torch.eye(2, 3)\n",
    "grids = torch.nn.functional.affine_grid(theta.unsqueeze(0), [1, 1, 36, 36], align_corners=False)"
   ]
  },
  {
   "cell_type": "code",
   "execution_count": 101,
   "metadata": {},
   "outputs": [
    {
     "name": "stdout",
     "output_type": "stream",
     "text": [
      "normalize range is not given, use min and max value in all input tensors\n"
     ]
    },
    {
     "data": {
      "image/png": "[encoded data removed]",
      "text/plain": [
       "<Figure size 360x288 with 1 Axes>"
      ]
     },
     "metadata": {
      "needs_background": "light"
     },
     "output_type": "display_data"
    }
   ],
   "source": [
    "# compute 2D signal and visualize it \n",
    "x = (grids.unsqueeze(3) @ freqs.permute(0, 2, 1).unsqueeze(1).unsqueeze(2)).squeeze(3)\n",
    "x = x + phases.unsqueeze(1).unsqueeze(2)\n",
    "x = torch.sin(x * (np.pi * 2))\n",
    "\n",
    "visualize_feature(x.squeeze(), 1, 1)"
   ]
  },
  {
   "cell_type": "code",
   "execution_count": 102,
   "metadata": {},
   "outputs": [],
   "source": [
    "# As we can see, this signal has relative high freq for x direction, and low freq for y direction. \n",
    "# This can also be verified by the above printed freqs "
   ]
  },
  {
   "cell_type": "code",
   "execution_count": 103,
   "metadata": {},
   "outputs": [
    {
     "name": "stdout",
     "output_type": "stream",
     "text": [
      "normalize range is not given, use min and max value in all input tensors\n"
     ]
    },
    {
     "data": {
      "image/png": "[encoded data removed]",
      "text/plain": [
       "<Figure size 360x288 with 1 Axes>"
      ]
     },
     "metadata": {
      "needs_background": "light"
     },
     "output_type": "display_data"
    }
   ],
   "source": [
    "# Now let's compute its FFT. Note that the fft2 in pytorch does not move low frequency into the center \n",
    "# as done in almost all visualization, thus the second line is simply moving values around  \n",
    "fft_map = abs( torch.fft.fft2( x.squeeze() ) )\n",
    "fft_map = fft_map.roll(shifts=[fft_map.shape[0] // 2, fft_map.shape[1] // 2], dims=[0,1]) \n",
    "visualize_feature(fft_map)"
   ]
  },
  {
   "cell_type": "code",
   "execution_count": 104,
   "metadata": {},
   "outputs": [],
   "source": [
    "# As it can be seen, we have two light dots almost parallel to the x axis. "
   ]
  },
  {
   "cell_type": "code",
   "execution_count": 105,
   "metadata": {},
   "outputs": [
    {
     "name": "stdout",
     "output_type": "stream",
     "text": [
      "normalize range is not given, use min and max value in all input tensors\n"
     ]
    },
    {
     "data": {
      "image/png": "[encoded data removed]",
      "text/plain": [
       "<Figure size 360x288 with 1 Axes>"
      ]
     },
     "metadata": {
      "needs_background": "light"
     },
     "output_type": "display_data"
    }
   ],
   "source": [
    "# Now let's increase y axis freq from 0.1 to 2.3, and see signal map \n",
    "freqs2 = freqs.clone()\n",
    "freqs2[0,0,1] = 2.3 # hardcoded\n",
    "\n",
    "x2 = (grids.unsqueeze(3) @ freqs2.permute(0, 2, 1).unsqueeze(1).unsqueeze(2)).squeeze(3)\n",
    "x2 = x2 + phases.unsqueeze(1).unsqueeze(2)\n",
    "x2 = torch.sin(x2 * (np.pi * 2))\n",
    "\n",
    "visualize_feature(x2.squeeze(), 1, 1)"
   ]
  },
  {
   "cell_type": "code",
   "execution_count": 106,
   "metadata": {},
   "outputs": [
    {
     "name": "stdout",
     "output_type": "stream",
     "text": [
      "normalize range is not given, use min and max value in all input tensors\n"
     ]
    },
    {
     "data": {
      "image/png": "[encoded data removed]",
      "text/plain": [
       "<Figure size 360x288 with 1 Axes>"
      ]
     },
     "metadata": {
      "needs_background": "light"
     },
     "output_type": "display_data"
    }
   ],
   "source": [
    "# Let's see its FFT and this time we can clearly see it has y component  \n",
    "fft_map2 = abs( torch.fft.fft2( x2.squeeze() ) )\n",
    "fft_map2 = fft_map2.roll(shifts=[fft_map2.shape[0] // 2, fft_map2.shape[1] // 2], dims=[0,1]) \n",
    "visualize_feature(fft_map2)"
   ]
  },
  {
   "cell_type": "code",
   "execution_count": 118,
   "metadata": {},
   "outputs": [
    {
     "name": "stdout",
     "output_type": "stream",
     "text": [
      "normalize range is not given, use min and max value in all input tensors\n",
      "normalize range is not given, use min and max value in all input tensors\n"
     ]
    },
    {
     "data": {
      "image/png": "[encoded data removed]",
      "text/plain": [
       "<Figure size 360x288 with 1 Axes>"
      ]
     },
     "metadata": {
      "needs_background": "light"
     },
     "output_type": "display_data"
    },
    {
     "data": {
      "image/png": "[encoded data removed]",
      "text/plain": [
       "<Figure size 360x288 with 1 Axes>"
      ]
     },
     "metadata": {
      "needs_background": "light"
     },
     "output_type": "display_data"
    }
   ],
   "source": [
    "# Now let's set freqs to [2,3]. Then conceptually, x axis f=4 and y axis f=6 (grids is ranging from -1 to 1). \n",
    "# Then we can pre-calculate that two points in the feature map will be [ 36/2-6, 36/2-4 ] = [12,14] and \n",
    "# [ 36/2+6, 36/2+4 ] = [24,22]\n",
    "\n",
    "freqs3 = freqs.clone()\n",
    "freqs3[0,0,0] = 2 # hardcoded\n",
    "freqs3[0,0,1] = 3 # hardcoded\n",
    "\n",
    "x3 = (grids.unsqueeze(3) @ freqs3.permute(0, 2, 1).unsqueeze(1).unsqueeze(2)).squeeze(3)\n",
    "x3 = x3 + phases.unsqueeze(1).unsqueeze(2)\n",
    "x3 = torch.sin(x3 * (np.pi * 2))\n",
    "visualize_feature(x3.squeeze())\n",
    "\n",
    "fft_map3 = abs( torch.fft.fft2( x3.squeeze() ) )\n",
    "fft_map3 = fft_map3.roll(shifts=[fft_map3.shape[0] // 2, fft_map3.shape[1] // 2], dims=[0,1]) \n",
    "visualize_feature(fft_map3)\n"
   ]
  },
  {
   "cell_type": "code",
   "execution_count": 119,
   "metadata": {},
   "outputs": [
    {
     "name": "stdout",
     "output_type": "stream",
     "text": [
      "Two points location is:  tensor([12, 14]) tensor([24, 22])\n"
     ]
    }
   ],
   "source": [
    "# we can verify that by printing:\n",
    "points = (fft_map3 > 0.01).nonzero()\n",
    "print('Two points location is: ', points[0], points[1])"
   ]
  },
  {
   "cell_type": "code",
   "execution_count": 120,
   "metadata": {},
   "outputs": [
    {
     "name": "stdout",
     "output_type": "stream",
     "text": [
      "normalize range is not given, use min and max value in all input tensors\n",
      "normalize range is not given, use min and max value in all input tensors\n"
     ]
    },
    {
     "data": {
      "image/png": "[encoded data removed]",
      "text/plain": [
       "<Figure size 360x288 with 1 Axes>"
      ]
     },
     "metadata": {
      "needs_background": "light"
     },
     "output_type": "display_data"
    },
    {
     "data": {
      "image/png": "[encoded data removed]",
      "text/plain": [
       "<Figure size 360x288 with 1 Axes>"
      ]
     },
     "metadata": {
      "needs_background": "light"
     },
     "output_type": "display_data"
    }
   ],
   "source": [
    "# So far, we haven't set phase, now let's add phase and we hardcoded it as 0.5\n",
    "phases3_1 = phases.clone()\n",
    "phases3_1[0,0] = 0.1\n",
    "\n",
    "\n",
    "freqs3 = freqs.clone()\n",
    "freqs3[0,0,0] = 2 # hardcoded\n",
    "freqs3[0,0,1] = 3 # hardcoded\n",
    "\n",
    "x3_1 = (grids.unsqueeze(3) @ freqs3.permute(0, 2, 1).unsqueeze(1).unsqueeze(2)).squeeze(3)\n",
    "x3_1 = x3_1 + phases3_1.unsqueeze(1).unsqueeze(2)\n",
    "x3_1 = torch.sin(x3_1 * (np.pi * 2))\n",
    "visualize_feature(x3_1.squeeze())\n",
    "\n",
    "fft_map3_1 = abs( torch.fft.fft2( x3_1.squeeze() ) )\n",
    "fft_map3_1 = fft_map3_1.roll(shifts=[fft_map3_1.shape[0] // 2, fft_map3_1.shape[1] // 2], dims=[0,1]) \n",
    "visualize_feature(fft_map3_1)"
   ]
  },
  {
   "cell_type": "code",
   "execution_count": null,
   "metadata": {},
   "outputs": [],
   "source": [
    "# We can see that, although the feature map is differnet (adding phase means shift), but fft map is still the same.\n",
    "# Note that both the x and y shift direction are controled by the singal value phase. Since the actual sigal is\n",
    "# sin(ax+by), a and b are freqs, x and y are coordinates. We we add a phase c. Then it becomes to sin(ax+by+c), where\n",
    "# c can be decomposed into am+bn, thus the singal is sin( a(x+m)+b(y+n) )"
   ]
  }
 ],
 "metadata": {
  "kernelspec": {
   "display_name": "Python 3",
   "language": "python",
   "name": "python3"
  },
  "language_info": {
   "codemirror_mode": {
    "name": "ipython",
    "version": 3
   },
   "file_extension": ".py",
   "mimetype": "text/x-python",
   "name": "python",
   "nbconvert_exporter": "python",
   "pygments_lexer": "ipython3",
   "version": "3.8.8"
  }
 },
 "nbformat": 4,
 "nbformat_minor": 4
}
