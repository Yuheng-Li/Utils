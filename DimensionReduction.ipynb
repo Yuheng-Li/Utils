{
 "cells": [
  {
   "cell_type": "code",
   "execution_count": 71,
   "metadata": {},
   "outputs": [],
   "source": [
    "from sklearn.manifold import TSNE\n",
    "import numpy as np \n",
    "import matplotlib.cm as cm\n",
    "import torch \n",
    "from matplotlib import pyplot as plt"
   ]
  },
  {
   "cell_type": "code",
   "execution_count": null,
   "metadata": {},
   "outputs": [],
   "source": [
    "class DimensionReduction():\n",
    "    def __init__(self):\n",
    "        self.registered = False\n",
    "        \n",
    "        self.x = []\n",
    "        self.label = []\n",
    "        \n",
    "        \n",
    "    def _register_x(self, x):\n",
    "        if type(x) == torch.Tensor:\n",
    "            assert x.ndim == 2, 'input data tensor should be dimension of two: NUM_DATA * DATA_LENGTH'\n",
    "            x = np.array(x.detach().cpu())\n",
    "            self.x.append( x )\n",
    "        elif type(x) == np.ndarray: \n",
    "            assert x.ndim == 2, 'input data array should be dimension of two: NUM_DATA * DATA_LENGTH'\n",
    "            self.x.append( x ) \n",
    "        else:\n",
    "            assert False, 'non supported data type'\n",
    "            \n",
    "        self.last_registered_x_data_num = x.shape[0]\n",
    "    \n",
    "            \n",
    "    def _register_label(self, label):\n",
    "    \n",
    "        if type(label) == int: \n",
    "            self.label += [label]*self.last_registered_x_data_num\n",
    "        elif type(label) == str: \n",
    "            self.label += [label]*self.last_registered_x_data_num\n",
    "        elif type(label) == torch.Tensor: \n",
    "            assert label.ndim == 1 and len(label) == self.last_registered_x_data_num, 'input label tensor should be dimension of one: NUM_DATA '\n",
    "            self.label += label.detach().cpu().tolist()\n",
    "        elif type(label) == np.ndarray: \n",
    "            assert label.ndim == 1 and len(label) == self.last_registered_x_data_num, 'input label array should be dimension of one: NUM_DATA '\n",
    "            self.label += label.tolist()\n",
    "        else:\n",
    "            assert False, 'non supported label type'\n",
    "        \n",
    "        \n",
    "    def register(self, x, label):\n",
    "        \n",
    "        self._register_x(x)\n",
    "        self._register_label(label)\n",
    "                        \n",
    "        self.registered = True\n",
    "        \n",
    "        \n",
    "    def deregister(self):        \n",
    "             \n",
    "        self.x = []\n",
    "        self.label = []\n",
    "        self.registered = False   \n",
    "        \n",
    "        \n",
    "    def _regroup_data(self):\n",
    "        \n",
    "        unique_labels = list(set(self.label))        \n",
    "        self.plot_data = {  label:[] for label in unique_labels  }\n",
    "        \n",
    "        for x, label in zip( self.reduced_x, self.label ):\n",
    "            self.plot_data[label].append(x)\n",
    "\n",
    "        for label in self.plot_data:\n",
    "            self.plot_data[label] = np.stack( self.plot_data[label] )\n",
    "\n",
    "        self.colors = cm.rainbow(np.linspace(0, 1, len(unique_labels))) \n",
    "\n",
    "        \n",
    "        \n",
    "        \n",
    "    def reduce(self, n_components):\n",
    "    \n",
    "        assert n_components in [1, 2], 'This class is for dim reduction and visualization, please reduce to 1 or 2'\n",
    "        assert self.registered\n",
    "        \n",
    "        assert n_components == 2 # for now only support 2 TODO \n",
    "        \n",
    "        self.x = np.concatenate( self.x, axis=0 )\n",
    "        if len(self.label) != 0:\n",
    "            assert len(self.x) == len(self.label), 'data and label length are not the same'\n",
    "            \n",
    "        print('all registed data has been concat and running TSNE now ... ')        \n",
    "        tsne = TSNE(n_components=n_components, random_state=0)        \n",
    "        self.reduced_x = tsne.fit_transform(self.x)  # NUM_DATA * REDUCED_DIM\n",
    "        print('reduction finished') \n",
    "        \n",
    "        \n",
    "    def save_fig(self, name, plot_legend=False):\n",
    "        self._regroup_data()\n",
    "        \n",
    "       \n",
    "        plt.figure()\n",
    "        for (y, x), c in zip( self.plot_data.items(), self.colors):\n",
    "            plt.scatter( x[:,0], x[:,1], label=y, color=c )\n",
    "\n",
    "        plt.legend()\n",
    "        plt.savefig(name, facecolor='w')\n",
    "\n",
    "        "
   ]
  },
  {
   "cell_type": "code",
   "execution_count": 65,
   "metadata": {},
   "outputs": [],
   "source": [
    "dd = DimensionReduction()"
   ]
  },
  {
   "cell_type": "code",
   "execution_count": 68,
   "metadata": {},
   "outputs": [],
   "source": [
    "dd.register(    np.random.rand(100,512),2   )"
   ]
  },
  {
   "cell_type": "code",
   "execution_count": 69,
   "metadata": {},
   "outputs": [
    {
     "name": "stdout",
     "output_type": "stream",
     "text": [
      "all registed data has been concat and running TSNE now ... \n",
      "reduction finished\n"
     ]
    }
   ],
   "source": [
    "dd.reduce(2)"
   ]
  },
  {
   "cell_type": "code",
   "execution_count": 70,
   "metadata": {},
   "outputs": [
    {
     "data": {
      "image/png": "[encoded data removed]",
      "text/plain": [
       "<Figure size 432x288 with 1 Axes>"
      ]
     },
     "metadata": {
      "needs_background": "light"
     },
     "output_type": "display_data"
    }
   ],
   "source": [
    "dd.save_fig('x.png')"
   ]
  },
  {
   "cell_type": "code",
   "execution_count": null,
   "metadata": {},
   "outputs": [],
   "source": []
  }
 ],
 "metadata": {
  "kernelspec": {
   "display_name": "Python 3",
   "language": "python",
   "name": "python3"
  },
  "language_info": {
   "codemirror_mode": {
    "name": "ipython",
    "version": 3
   },
   "file_extension": ".py",
   "mimetype": "text/x-python",
   "name": "python",
   "nbconvert_exporter": "python",
   "pygments_lexer": "ipython3",
   "version": "3.8.5"
  }
 },
 "nbformat": 4,
 "nbformat_minor": 4
}
